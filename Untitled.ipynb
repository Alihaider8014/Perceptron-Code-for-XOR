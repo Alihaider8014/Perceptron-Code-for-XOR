{
 "cells": [
  {
   "cell_type": "code",
   "execution_count": 67,
   "metadata": {},
   "outputs": [
    {
     "data": {
      "text/plain": [
       "[0, 0, 1, 1, 0, 0, 1, 1, 0, 0, 1, 1, 0, 0, 1, 1, 0, 0, 1, 1]"
      ]
     },
     "execution_count": 67,
     "metadata": {},
     "output_type": "execute_result"
    }
   ],
   "source": [
    "x=[0,0,1,1,0,0,1,1,0,0,1,1,0,0,1,1,0,0,1,1]\n",
    "x"
   ]
  },
  {
   "cell_type": "code",
   "execution_count": 68,
   "metadata": {},
   "outputs": [
    {
     "data": {
      "text/plain": [
       "[0, 1, 0, 1, 0, 1, 0, 1, 0, 1, 0, 1, 0, 1, 0, 1, 0, 1, 0, 1]"
      ]
     },
     "execution_count": 68,
     "metadata": {},
     "output_type": "execute_result"
    }
   ],
   "source": [
    "y=[0,1,0,1,0,1,0,1,0,1,0,1,0,1,0,1,0,1,0,1]\n",
    "y"
   ]
  },
  {
   "cell_type": "code",
   "execution_count": 69,
   "metadata": {},
   "outputs": [
    {
     "name": "stdout",
     "output_type": "stream",
     "text": [
      "[0, 1, 1, 0, 0, 1, 1, 0, 0, 1, 1, 0, 0, 1, 1, 0, 0, 1, 1, 0]\n"
     ]
    }
   ],
   "source": [
    "expected_value=[0,0,0,0,0,0,0,0,0,0,0,0,0,0,0,0,0,0,0,0]\n",
    "for i in range(0,20):\n",
    "    if (x[i] != y[i]):\n",
    "        expected_value[i]=1\n",
    "    else:\n",
    "        expected_value[i]=0\n",
    "\n",
    "print(expected_value)"
   ]
  },
  {
   "cell_type": "code",
   "execution_count": 70,
   "metadata": {},
   "outputs": [],
   "source": [
    "weight1=0.1\n",
    "weight2=0.4\n",
    "weight3=0.8\n",
    "weight4=0.6\n",
    "weight5=0.3\n",
    "weight6=0.9\n",
    "#learning_rate=0.1\n",
    "#bias=1"
   ]
  },
  {
   "cell_type": "code",
   "execution_count": 74,
   "metadata": {},
   "outputs": [],
   "source": [
    "    #x1=0.35\n",
    "    #x2=0.9\n",
    "    #a1=(x1 * weight1) + (x2 * weight3)\n",
    "    #a2=(x2 * weight4) + (x1 * weight2)\n",
    "    #sigmoid for a1\n",
    "    #z1=(1/(1+m.exp(-a1)))\n",
    "    #sigmoid for a2\n",
    "    #z2=(1/(1+m.exp(-a2)))\n",
    "    #b=(z1*weight5) + (z2*weight6)\n",
    "    #z3=(1/(1+m.exp(-b)))\n",
    "    \n",
    "    #e=z3*(1-z3)*(0.5 - z3 )\n",
    "    \n",
    "    #weight5=weight5 + (e * z3)\n",
    "    #weight6=weight6 + (e * z3)\n",
    "    \n",
    "    #print(z1, z2, z3, e, weight5, weight6)"
   ]
  },
  {
   "cell_type": "code",
   "execution_count": 73,
   "metadata": {},
   "outputs": [
    {
     "name": "stdout",
     "output_type": "stream",
     "text": [
      "0 0 0 0.559139802346572 -0.13939415308286976 0.4606058469171302 -0.13782935005779834\n",
      "0 1 1 0.5501346278801327 -0.07814457595291105 0.521855424047089 0.11133561500386814\n",
      "1 0 1 0.5674375835077899 -0.01789780705108583 0.5821021929489142 0.10617338479659963\n",
      "1 1 0 0.6017653940758737 -0.10467800247703554 0.49532199752296446 -0.1442093484940545\n",
      "0 0 0 0.5486758462919846 -0.17922602075451785 0.42077397924548215 -0.1358689630339781\n",
      "0 1 1 0.5369360893156574 -0.11740629685604445 0.48259370314395555 0.11513423129606479\n",
      "1 0 1 0.556578400436974 -0.05649660741426919 0.5435033925857308 0.10943595618147342\n",
      "1 1 0 0.5883543710082118 -0.1403345208594986 0.4596654791405014 -0.14249560736935407\n",
      "0 0 0 0.5398317861898739 -0.21272675423436477 0.3872732457656352 -0.1341014649874726\n",
      "0 1 1 0.5257944255840724 -0.15055898773616638 0.4494410122638336 0.11823587979111809\n",
      "1 0 1 0.547366154095389 -0.08917573048499886 0.5108242695150012 0.1121429536552425\n",
      "1 1 0 0.5768957625642993 -0.1704100266126961 0.42958997338730387 -0.14081278005338632\n",
      "0 0 0 0.5323522302508864 -0.24096312665864195 0.35903687334135803 -0.1325308621562375\n",
      "0 1 1 0.5163831363737655 -0.17859725819496047 0.4214027418050395 0.12077440967890198\n",
      "1 0 1 0.5395494015977821 -0.11687688919694615 0.4831231108030538 0.1143924334180339\n",
      "1 1 0 0.5671168969986611 -0.19583348132383954 0.40416651867616044 -0.1392245453181759\n",
      "0 0 0 0.5260181077779003 -0.2648199372697798 0.33518006273022016 -0.1311484432301488\n",
      "0 1 1 0.5084222339036827 -0.20235539925010823 0.3976446007498917 0.12285957193505641\n",
      "1 0 1 0.5329104845696803 -0.14039577614181548 0.45960422385818445 0.11626647420593442\n",
      "1 1 0 0.5587728711204221 -0.21737404586384906 0.38262595413615086 -0.13776307637785065\n"
     ]
    }
   ],
   "source": [
    "import math as m\n",
    "for i in range(0,20):\n",
    "    a1=(x[i] * weight1) + (y[i] * weight3)\n",
    "    a2=(y[i] * weight4) + (x[i] * weight2)\n",
    "    #a1=(matrix_x[i]* weight1) + (matrix_y[i] * weight2)\n",
    "    #a2=(matrix_x[i]* weight3) + (matrix_y[i] * weight4)\n",
    "    #sigmoid for a1\n",
    "    z1=(1/(1+m.exp(-a1)))\n",
    "    #sigmoid for a2\n",
    "    z2=(1/(1+m.exp(-a2)))\n",
    "    #neuron 1 multi neuron 2\n",
    "    b=(z1*weight5) + (z2*weight6)\n",
    "    #sigmoid then output\n",
    "    z3=(1/(1+m.exp(-b)))\n",
    "    \n",
    "    e=z3*(1-z3)*(expected_value[i]-z3)\n",
    "    \n",
    "    \n",
    "    \n",
    "    if (e != expected_value[i]):\n",
    "        weight5=weight5 + (e * z3)\n",
    "        weight6=weight6 + (e * z3)\n",
    "\n",
    "    print(matrix_x[i], matrix_y[i], expected_value[i], z3,   weight5, weight6 , e)"
   ]
  },
  {
   "cell_type": "code",
   "execution_count": null,
   "metadata": {},
   "outputs": [],
   "source": []
  }
 ],
 "metadata": {
  "kernelspec": {
   "display_name": "Python 3",
   "language": "python",
   "name": "python3"
  },
  "language_info": {
   "codemirror_mode": {
    "name": "ipython",
    "version": 3
   },
   "file_extension": ".py",
   "mimetype": "text/x-python",
   "name": "python",
   "nbconvert_exporter": "python",
   "pygments_lexer": "ipython3",
   "version": "3.7.0"
  }
 },
 "nbformat": 4,
 "nbformat_minor": 2
}
